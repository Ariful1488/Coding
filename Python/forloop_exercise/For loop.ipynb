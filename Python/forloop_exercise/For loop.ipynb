{
 "cells": [
  {
   "cell_type": "code",
   "execution_count": null,
   "id": "e786943f-49f2-47f2-b6b8-c0d2ea081665",
   "metadata": {},
   "outputs": [],
   "source": [
    "# for loop travell sequencially. it may travell in list,array,tuple etc"
   ]
  },
  {
   "cell_type": "code",
   "execution_count": null,
   "id": "7df4ebfd-bf24-431c-beef-e8746c8bfb4e",
   "metadata": {},
   "outputs": [],
   "source": [
    "structure:\n",
    "for variable in list: # for is the key word and  variable will travel in the list\n",
    "    #we can do operation with the variables\n",
    "    print(variable)"
   ]
  },
  {
   "cell_type": "code",
   "execution_count": 2,
   "id": "8e5d8165-a644-4e41-9ce6-4c28e58a88f4",
   "metadata": {},
   "outputs": [
    {
     "name": "stdout",
     "output_type": "stream",
     "text": [
      "10\n",
      "15\n",
      "20\n",
      "30\n"
     ]
    }
   ],
   "source": [
    "#print every element of the list:[10,15,20,30]\n",
    "list = [10,15,20,30]\n",
    "for i in list:\n",
    "    print(i)\n"
   ]
  },
  {
   "cell_type": "code",
   "execution_count": 4,
   "id": "afe3993d-be0b-4977-8d11-33b63701675f",
   "metadata": {},
   "outputs": [
    {
     "name": "stdout",
     "output_type": "stream",
     "text": [
      "Apple\n",
      "orrange\n",
      "grave\n",
      "Multa\n",
      "Avocaddo\n"
     ]
    }
   ],
   "source": [
    "# it would be a list fruit name wnd print every fruit\n",
    "f_name = ['Apple','orrange','grave','Multa','Avocaddo']\n",
    "for num in f_name:\n",
    "    print(num)"
   ]
  },
  {
   "cell_type": "code",
   "execution_count": 5,
   "id": "afd51c81-8093-4a5b-bee5-508f1557fb64",
   "metadata": {},
   "outputs": [
    {
     "name": "stdout",
     "output_type": "stream",
     "text": [
      "1\n",
      "2\n",
      "3\n",
      "4\n"
     ]
    }
   ],
   "source": [
    "#we can use forloop in tupple\n",
    "tup = (1,2,3,4)\n",
    "for n in tup:\n",
    "    print(n)"
   ]
  },
  {
   "cell_type": "code",
   "execution_count": 6,
   "id": "7c151866-87fc-46f9-b076-5e9decabe80d",
   "metadata": {},
   "outputs": [
    {
     "name": "stdout",
     "output_type": "stream",
     "text": [
      "1\n",
      "4\n",
      "9\n",
      "16\n",
      "25\n",
      "36\n",
      "49\n",
      "64\n",
      "81\n",
      "100\n"
     ]
    }
   ],
   "source": [
    "#print the elements of the following list using a loop: [1,4,9,16,25,36,49,64,81,100]\n",
    "list = [1,4,9,16,25,36,49,64,81,100]\n",
    "for i in list:\n",
    "    print(i)\n"
   ]
  },
  {
   "cell_type": "code",
   "execution_count": 11,
   "id": "be746469-19b1-4eab-929f-ca0830dda35b",
   "metadata": {},
   "outputs": [
    {
     "name": "stdout",
     "output_type": "stream",
     "text": [
      "Number is found in index 8\n",
      "Number is found in index 11\n"
     ]
    }
   ],
   "source": [
    "#Search for a number x in this tuple using loop:(1,4,9,16,25,36,49,64,81,100)\n",
    "x = 64\n",
    "tup = (1,4,9,16,25,36,49,64,81,100,64)\n",
    "indx = 1\n",
    "for num in tup:\n",
    "    if (num == x):\n",
    "        print ('Number is found in index', indx)\n",
    "    indx = indx + 1\n",
    "        "
   ]
  },
  {
   "cell_type": "code",
   "execution_count": 12,
   "id": "f56b32e7-7d58-4250-9bc4-1520a5565bad",
   "metadata": {},
   "outputs": [
    {
     "name": "stdout",
     "output_type": "stream",
     "text": [
      "Number is found in index 8\n"
     ]
    }
   ],
   "source": [
    "#if we want to finisch thw loop just after founding the number once\n",
    "x = 64\n",
    "tup = (1,4,9,16,25,36,49,64,81,100,64)\n",
    "indx = 1\n",
    "for num in tup:\n",
    "    if (num == x):\n",
    "        print ('Number is found in index', indx)\n",
    "        break\n",
    "    indx = indx + 1"
   ]
  },
  {
   "cell_type": "code",
   "execution_count": 17,
   "id": "637a9fbf-3179-4154-b0ab-190092a3e27d",
   "metadata": {},
   "outputs": [
    {
     "name": "stdout",
     "output_type": "stream",
     "text": [
      "0\n",
      "1\n",
      "2\n",
      "3\n",
      "4\n",
      "5\n",
      "6\n",
      "7\n",
      "8\n",
      "9\n"
     ]
    }
   ],
   "source": [
    "# range() is a function which returns sequence of number. \n",
    "# it started from 0 and ended at one number before of providing number\n",
    "#example range(10)\n",
    "#for it will provide a sequence from 0 to 9\n",
    "for i in range(10):\n",
    "    print(i)\n",
    "    #i += 1"
   ]
  },
  {
   "cell_type": "code",
   "execution_count": 18,
   "id": "69aa0dc6-16bf-454a-a5bc-d6a8ce8bd7d7",
   "metadata": {},
   "outputs": [
    {
     "name": "stdout",
     "output_type": "stream",
     "text": [
      "2\n",
      "4\n",
      "6\n",
      "8\n",
      "10\n",
      "12\n",
      "14\n",
      "16\n",
      "18\n",
      "20\n",
      "22\n",
      "24\n",
      "26\n",
      "28\n",
      "30\n",
      "32\n",
      "34\n",
      "36\n",
      "38\n",
      "40\n",
      "42\n",
      "44\n",
      "46\n",
      "48\n"
     ]
    }
   ],
   "source": [
    "#how many argument is passed in range() function?\n",
    "#in range() function we can pass three argumnet range(start,stop,increment)\n",
    "#for eample we will print the all even numbers which are in between 0 to 50\n",
    "for i in range(2,50,2):\n",
    "    print(i)"
   ]
  },
  {
   "cell_type": "code",
   "execution_count": 19,
   "id": "30dcadd0-4cff-4ff0-bf3c-ac5fe853f4f8",
   "metadata": {},
   "outputs": [
    {
     "name": "stdout",
     "output_type": "stream",
     "text": [
      "1\n",
      "3\n",
      "5\n",
      "7\n",
      "9\n",
      "11\n",
      "13\n",
      "15\n",
      "17\n",
      "19\n",
      "21\n",
      "23\n",
      "25\n",
      "27\n",
      "29\n",
      "31\n",
      "33\n",
      "35\n",
      "37\n",
      "39\n",
      "41\n",
      "43\n",
      "45\n",
      "47\n",
      "49\n"
     ]
    }
   ],
   "source": [
    "#similarly even numbers between 0 to 50\n",
    "for i  in range(1,50,2):\n",
    "    print(i)"
   ]
  },
  {
   "cell_type": "code",
   "execution_count": null,
   "id": "b958ddf7-6506-4eff-95c1-7f0e9a698e01",
   "metadata": {},
   "outputs": [],
   "source": [
    "# If we pass just only one number in range() function, it will consider as stop number\n",
    "# if provide two numbers, it will consider as start and stop"
   ]
  },
  {
   "cell_type": "code",
   "execution_count": 21,
   "id": "74003ae2-f2de-4c6d-a340-1ac8f27769b1",
   "metadata": {},
   "outputs": [
    {
     "name": "stdout",
     "output_type": "stream",
     "text": [
      "1\n",
      "2\n",
      "3\n",
      "4\n",
      "5\n",
      "6\n",
      "7\n",
      "8\n",
      "9\n",
      "10\n",
      "11\n",
      "12\n",
      "13\n",
      "14\n",
      "15\n",
      "16\n",
      "17\n",
      "18\n",
      "19\n",
      "20\n",
      "21\n",
      "22\n",
      "23\n",
      "24\n",
      "25\n",
      "26\n",
      "27\n",
      "28\n",
      "29\n",
      "30\n",
      "31\n",
      "32\n",
      "33\n",
      "34\n",
      "35\n",
      "36\n",
      "37\n",
      "38\n",
      "39\n",
      "40\n",
      "41\n",
      "42\n",
      "43\n",
      "44\n",
      "45\n",
      "46\n",
      "47\n",
      "48\n",
      "49\n",
      "50\n",
      "51\n",
      "52\n",
      "53\n",
      "54\n",
      "55\n",
      "56\n",
      "57\n",
      "58\n",
      "59\n",
      "60\n",
      "61\n",
      "62\n",
      "63\n",
      "64\n",
      "65\n",
      "66\n",
      "67\n",
      "68\n",
      "69\n",
      "70\n",
      "71\n",
      "72\n",
      "73\n",
      "74\n",
      "75\n",
      "76\n",
      "77\n",
      "78\n",
      "79\n",
      "80\n",
      "81\n",
      "82\n",
      "83\n",
      "84\n",
      "85\n",
      "86\n",
      "87\n",
      "88\n",
      "89\n",
      "90\n",
      "91\n",
      "92\n",
      "93\n",
      "94\n",
      "95\n",
      "96\n",
      "97\n",
      "98\n",
      "99\n",
      "100\n"
     ]
    }
   ],
   "source": [
    "#by using range()function, print 1 to 100\n",
    "\n",
    "for i in range(1,101,1):\n",
    "    print(i)"
   ]
  },
  {
   "cell_type": "code",
   "execution_count": 25,
   "id": "607b240d-b7db-47d4-b8c0-6e02996df933",
   "metadata": {},
   "outputs": [
    {
     "name": "stdout",
     "output_type": "stream",
     "text": [
      "100\n",
      "99\n",
      "98\n",
      "97\n",
      "96\n",
      "95\n",
      "94\n",
      "93\n",
      "92\n",
      "91\n",
      "90\n",
      "89\n",
      "88\n",
      "87\n",
      "86\n",
      "85\n",
      "84\n",
      "83\n",
      "82\n",
      "81\n",
      "80\n",
      "79\n",
      "78\n",
      "77\n",
      "76\n",
      "75\n",
      "74\n",
      "73\n",
      "72\n",
      "71\n",
      "70\n",
      "69\n",
      "68\n",
      "67\n",
      "66\n",
      "65\n",
      "64\n",
      "63\n",
      "62\n",
      "61\n",
      "60\n",
      "59\n",
      "58\n",
      "57\n",
      "56\n",
      "55\n",
      "54\n",
      "53\n",
      "52\n",
      "51\n",
      "50\n",
      "49\n",
      "48\n",
      "47\n",
      "46\n",
      "45\n",
      "44\n",
      "43\n",
      "42\n",
      "41\n",
      "40\n",
      "39\n",
      "38\n",
      "37\n",
      "36\n",
      "35\n",
      "34\n",
      "33\n",
      "32\n",
      "31\n",
      "30\n",
      "29\n",
      "28\n",
      "27\n",
      "26\n",
      "25\n",
      "24\n",
      "23\n",
      "22\n",
      "21\n",
      "20\n",
      "19\n",
      "18\n",
      "17\n",
      "16\n",
      "15\n",
      "14\n",
      "13\n",
      "12\n",
      "11\n",
      "10\n",
      "9\n",
      "8\n",
      "7\n",
      "6\n",
      "5\n",
      "4\n",
      "3\n",
      "2\n",
      "1\n"
     ]
    }
   ],
   "source": [
    "#by using range()function, print 100 to 1\n",
    "for i in range(100,0,-1):\n",
    "    print(i)"
   ]
  },
  {
   "cell_type": "code",
   "execution_count": 20,
   "id": "1abeb3f6-12ae-454e-9148-cbfd14a434c5",
   "metadata": {},
   "outputs": [
    {
     "name": "stdout",
     "output_type": "stream",
     "text": [
      "0\n",
      "3\n",
      "6\n",
      "9\n",
      "12\n",
      "15\n",
      "18\n",
      "21\n",
      "24\n",
      "27\n",
      "30\n"
     ]
    }
   ],
   "source": [
    "#by using range function print a multiplication table for number \n",
    "x = 3\n",
    "for i in range(11):\n",
    "    mult = x * i\n",
    "    print(mult)\n",
    "    "
   ]
  },
  {
   "cell_type": "code",
   "execution_count": null,
   "id": "68be514e-13c7-4278-8af3-bae53cbe0d51",
   "metadata": {},
   "outputs": [],
   "source": []
  }
 ],
 "metadata": {
  "kernelspec": {
   "display_name": "Python 3 (ipykernel)",
   "language": "python",
   "name": "python3"
  },
  "language_info": {
   "codemirror_mode": {
    "name": "ipython",
    "version": 3
   },
   "file_extension": ".py",
   "mimetype": "text/x-python",
   "name": "python",
   "nbconvert_exporter": "python",
   "pygments_lexer": "ipython3",
   "version": "3.11.5"
  }
 },
 "nbformat": 4,
 "nbformat_minor": 5
}
