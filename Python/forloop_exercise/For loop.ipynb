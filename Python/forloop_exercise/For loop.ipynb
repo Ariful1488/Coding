{
 "cells": [
  {
   "cell_type": "code",
   "execution_count": null,
   "id": "e786943f-49f2-47f2-b6b8-c0d2ea081665",
   "metadata": {},
   "outputs": [],
   "source": []
  }
 ],
 "metadata": {
  "kernelspec": {
   "display_name": "",
   "name": ""
  },
  "language_info": {
   "name": ""
  }
 },
 "nbformat": 4,
 "nbformat_minor": 5
}
