{
 "cells": [
  {
   "cell_type": "code",
   "execution_count": null,
   "id": "555989df-0540-41ce-8a44-55859ed740cf",
   "metadata": {},
   "outputs": [],
   "source": [
    "# Loops: loops are repeate instruction\n",
    "# same work is done by again and again\n",
    "# There are two types of loop 1. for loop and 2. while loop"
   ]
  },
  {
   "cell_type": "code",
   "execution_count": null,
   "id": "774d5e89-e42e-4cee-a6c5-bb9bbad7d488",
   "metadata": {},
   "outputs": [],
   "source": [
    "# we are doing while loop\n",
    "while condition:\n",
    "    # the task we need to do "
   ]
  },
  {
   "cell_type": "code",
   "execution_count": null,
   "id": "88fb7f3b-5ae3-4fe2-9d18-fea0b254ed3b",
   "metadata": {},
   "outputs": [],
   "source": [
    "# if we write the condition true, it will give inifinite time performance and we can not stop it until killing the terminal\n",
    "# so giving the condiotion we have to create a counter"
   ]
  },
  {
   "cell_type": "code",
   "execution_count": 9,
   "id": "e46ce268-bcc6-4419-8db2-1b9a57068933",
   "metadata": {},
   "outputs": [
    {
     "name": "stdout",
     "output_type": "stream",
     "text": [
      "Hello\n",
      "Hello\n",
      "Hello\n",
      "Hello\n",
      "Hello\n"
     ]
    }
   ],
   "source": [
    "#problem: print Hello upto 5 times\n",
    "count = 1 #counter\n",
    "while count  <= 5: #here while is key word and count<=5 is condition\n",
    "    print('Hello') # our target work\n",
    "    count = count + 1 # counting \n"
   ]
  },
  {
   "cell_type": "code",
   "execution_count": null,
   "id": "c074ffbd-f4a9-49e1-aaf3-f7b1d1373684",
   "metadata": {},
   "outputs": [],
   "source": []
  }
 ],
 "metadata": {
  "kernelspec": {
   "display_name": "Python 3 (ipykernel)",
   "language": "python",
   "name": "python3"
  },
  "language_info": {
   "codemirror_mode": {
    "name": "ipython",
    "version": 3
   },
   "file_extension": ".py",
   "mimetype": "text/x-python",
   "name": "python",
   "nbconvert_exporter": "python",
   "pygments_lexer": "ipython3",
   "version": "3.11.5"
  }
 },
 "nbformat": 4,
 "nbformat_minor": 5
}
